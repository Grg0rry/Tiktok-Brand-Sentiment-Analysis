{
 "cells": [
  {
   "cell_type": "code",
   "execution_count": null,
   "metadata": {},
   "outputs": [],
   "source": [
    "# import library\n",
    "import pandas as pd\n",
    "import numpy as np"
   ]
  },
  {
   "cell_type": "code",
   "execution_count": null,
   "metadata": {},
   "outputs": [],
   "source": [
    "# load dataset\n",
    "data = pd.read_csv(\"../data/TikTokUserTweets.csv\")"
   ]
  },
  {
   "cell_type": "code",
   "execution_count": null,
   "metadata": {},
   "outputs": [],
   "source": [
    "# Find earliest and latest tweets\n",
    "print(\"Earliest tweet is at \", min(data['Date']), \"Number of likes: \", data[data['Date']==min(data['Date'])].Tweets)\n",
    "print(\"Latest tweet is at \", max(data['Date']), \"Number of likes: \", data[data['Date']==max(data['Date'])].Tweets)\n",
    "\n",
    "likes_max=np.max(data['Likes_no'])\n",
    "rt_max=np.max(data['Retweets_no'])\n",
    "\n",
    "most_likes=data[data['Likes_no']==likes_max].Tweets\n",
    "print(\"The tweet with most likes is: \", most_likes, \"Number of likes: \", likes_max)\n",
    "most_likes_tweets=data.loc[data['Likes_no']==likes_max]\n",
    "# help to find the tweets that follow the condition \"data['Likes']==likes_max\"\n",
    "# get more columns than just the 1 in most_likes\n",
    "\n",
    "most_rt=data[data['Retweets_no']==rt_max].Tweets\n",
    "print(\"The tweet with most retweets is: \", most_rt, \"Number of retweets: \", rt_max)\n",
    "most_rt_tweets=data.loc[data['Retweets_no']==rt_max]\n",
    "\n",
    "country_plot=pd.Series(data['Place']).value_counts().plot(kind=\"bar\")"
   ]
  }
 ],
 "metadata": {
  "language_info": {
   "name": "python"
  },
  "orig_nbformat": 4
 },
 "nbformat": 4,
 "nbformat_minor": 2
}
